{
  "nbformat": 4,
  "nbformat_minor": 0,
  "metadata": {
    "colab": {
      "private_outputs": true,
      "provenance": [],
      "authorship_tag": "ABX9TyNc+cJ4/1tXzMDdgI7E02Oa",
      "include_colab_link": true
    },
    "kernelspec": {
      "name": "python3",
      "display_name": "Python 3"
    },
    "language_info": {
      "name": "python"
    }
  },
  "cells": [
    {
      "cell_type": "markdown",
      "metadata": {
        "id": "view-in-github",
        "colab_type": "text"
      },
      "source": [
        "<a href=\"https://colab.research.google.com/github/Oguzhandd/Team2_EnhancingPassengerSatisfaction/blob/main/google_collab.ipynb\" target=\"_parent\"><img src=\"https://colab.research.google.com/assets/colab-badge.svg\" alt=\"Open In Colab\"/></a>"
      ]
    },
    {
      "cell_type": "code",
      "execution_count": null,
      "metadata": {
        "id": "umameindL0wj"
      },
      "outputs": [],
      "source": [
        "services = [\"Inflight wifi service\", \"Departure/Arrival time convenient\", \"Ease of Online booking\",\n",
        "            \"Gate location\",\"Food and drink\", \"Online boarding\", \"Seat comfort\",\n",
        "            \"Inflight entertainment\", \"On-board service\", \"Leg room service\",\n",
        "            \"Baggage handling\", \"Checkin service\", \"Inflight service\",\n",
        "            \"Cleanliness\"]"
      ]
    },
    {
      "cell_type": "code",
      "source": [
        "import pandas as pd\n",
        "\n",
        "# Load data\n",
        "df1 = pd.read_csv(\"datasets/train.csv\")\n",
        "df2 = pd.read_csv(\"datasets/test.csv\")\n",
        "#\n",
        "# print(\"Train set:\\n\")\n",
        "# print(len(df1))\n",
        "# print(df1.isnull().sum())\n",
        "# print(\"\\n\")\n",
        "# print(\"Test set:\\n\")\n",
        "# print(len(df2))\n",
        "# print(df2.isnull().sum())\n",
        "# print(\"\\n\\n\")\n",
        "\n",
        "\n",
        "# Drop Null Raws\n",
        "df1 = df1.dropna()\n",
        "df2 = df2.dropna()\n",
        "\n",
        "\n",
        "# return cleaned data of train set\n",
        "def clean_data_train():\n",
        "    return df1\n",
        "\n",
        "\n",
        "# return cleaned data of test set\n",
        "def clean_data_test():\n",
        "    return df2\n"
      ],
      "metadata": {
        "id": "CPl-SiLBOncF"
      },
      "execution_count": null,
      "outputs": []
    },
    {
      "cell_type": "code",
      "source": [
        "from sklearn.feature_selection import SequentialFeatureSelector as SFS\n",
        "from sklearn.model_selection import StratifiedKFold\n",
        "\n",
        "\n",
        "def forward_feature_selection(classifier):\n",
        "    sfK = StratifiedKFold(n_splits=10, random_state=42, shuffle=True)\n",
        "\n",
        "    sfs = SFS(\n",
        "        estimator=classifier,\n",
        "        n_features_to_select='auto',\n",
        "        tol=0.001,\n",
        "        # chosen direction in the article\n",
        "        direction='forward',\n",
        "        # chosen scoring in the article\n",
        "        scoring='roc_auc',\n",
        "        # cv = 10 = 10-fold cross-validation\n",
        "        cv=sfK,\n",
        "    )\n",
        "    return sfs\n"
      ],
      "metadata": {
        "id": "Cdy42W1dQSzT"
      },
      "execution_count": null,
      "outputs": []
    },
    {
      "cell_type": "code",
      "source": [
        "from sklearn.preprocessing import LabelEncoder\n",
        "\n",
        "train = clean_data_train()\n",
        "test = clean_data_test()\n",
        "\n",
        "# For Train set\n",
        "lencoders = {}\n",
        "for col in train.select_dtypes(include=['object']).columns:\n",
        "    lencoders[col] = LabelEncoder()\n",
        "    train[col] = lencoders[col].fit_transform(train[col])\n",
        "\n",
        "# For Test Set\n",
        "lencoders_t = {}\n",
        "for col in test.select_dtypes(include=['object']).columns:\n",
        "    lencoders_t[col] = LabelEncoder()\n",
        "    test[col] = lencoders_t[col].fit_transform(test[col])\n",
        "# Detect outliers\n",
        "Q1 = train.quantile(0.25)\n",
        "Q3 = train.quantile(0.75)\n",
        "IQR = Q3 - Q1\n",
        "\n",
        "# Removal of outliers from dataset\n",
        "train = train[~((train < (Q1 - 1.5 * IQR)) | (train > (Q3 + 1.5 * IQR))).any(axis=1)]\n",
        "\n",
        "\n",
        "def processed_data_train():\n",
        "    return train\n",
        "\n",
        "\n",
        "# return cleaned data of test set\n",
        "def processed_data_test():\n",
        "    return test\n",
        "\n",
        "\n",
        "def split_to_train_test(train, test, features, target):\n",
        "    train_cleaned = train\n",
        "    test_cleaned = test\n",
        "\n",
        "    features = features\n",
        "\n",
        "    target = target  # Target variable\n",
        "\n",
        "    X_train = train_cleaned[features]\n",
        "    y_train = train_cleaned[target].to_numpy()  # Convert Series to NumPy array\n",
        "    X_test = test_cleaned[features]\n",
        "    y_test = test_cleaned[target].to_numpy()  # Convert Series to NumPy array\n",
        "\n",
        "    return X_train, y_train, X_test, y_test\n"
      ],
      "metadata": {
        "id": "TRMFLhtfRMV5"
      },
      "execution_count": null,
      "outputs": []
    },
    {
      "cell_type": "code",
      "source": [
        "from sklearn.ensemble import RandomForestClassifier\n",
        "\n",
        "features = services\n",
        "x_train, y_train, x_test, y_test = split_to_train_test(clean_data_train(), clean_data_test(), features, 'satisfaction')\n",
        "random_forest = forward_feature_selection(RandomForestClassifier(n_estimators=10))\n",
        "random_forest = random_forest.fit(x_train, y_train)\n",
        "\n",
        "print(random_forest.get_feature_names_out())\n"
      ],
      "metadata": {
        "id": "wj7NjP2mQm33"
      },
      "execution_count": null,
      "outputs": []
    }
  ]
}