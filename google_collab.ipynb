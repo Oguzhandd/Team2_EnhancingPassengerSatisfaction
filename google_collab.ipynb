{
 "nbformat": 4,
 "nbformat_minor": 0,
 "metadata": {
  "colab": {
   "private_outputs": true,
   "provenance": [],
   "authorship_tag": "ABX9TyMNKsOfeGpeBQ9w6OmermZI",
   "include_colab_link": true
  },
  "kernelspec": {
   "name": "python3",
   "display_name": "Python 3"
  },
  "language_info": {
   "name": "python"
  }
 },
 "cells": [
  {
   "cell_type": "markdown",
   "metadata": {
    "id": "view-in-github",
    "colab_type": "text"
   },
   "source": [
    "<a href=\"https://colab.research.google.com/github/Oguzhandd/Team2_EnhancingPassengerSatisfaction/blob/main/google_collab.ipynb\" target=\"_parent\"><img src=\"https://colab.research.google.com/assets/colab-badge.svg\" alt=\"Open In Colab\"/></a>"
   ]
  },
  {
   "cell_type": "code",
   "execution_count": null,
   "metadata": {
    "id": "umameindL0wj",
    "ExecuteTime": {
     "start_time": "2024-05-27T21:38:50.793646400Z"
    }
   },
   "outputs": [],
   "source": [
    "services = [\"Inflight wifi service\", \"Departure/Arrival time convenient\", \"Ease of Online booking\",\n",
    "            \"Gate location\",\"Food and drink\", \"Online boarding\", \"Seat comfort\",\n",
    "            \"Inflight entertainment\", \"On-board service\", \"Leg room service\",\n",
    "            \"Baggage handling\", \"Checkin service\", \"Inflight service\",\n",
    "            \"Cleanliness\"]"
   ]
  },
  {
   "cell_type": "code",
   "source": [
    "import pandas as pd\n",
    "\n",
    "# Load data\n",
    "df1 = pd.read_csv(\"datasets/train.csv\")\n",
    "df2 = pd.read_csv(\"datasets/test.csv\")\n",
    "#\n",
    "# print(\"Train set:\\n\")\n",
    "# print(len(df1))\n",
    "# print(df1.isnull().sum())\n",
    "# print(\"\\n\")\n",
    "# print(\"Test set:\\n\")\n",
    "# print(len(df2))\n",
    "# print(df2.isnull().sum())\n",
    "# print(\"\\n\\n\")\n",
    "\n",
    "\n",
    "# Drop Null Raws\n",
    "df1 = df1.dropna()\n",
    "df2 = df2.dropna()\n",
    "\n",
    "\n",
    "# return cleaned data of train set\n",
    "def clean_data_train():\n",
    "    return df1\n",
    "\n",
    "\n",
    "# return cleaned data of test set\n",
    "def clean_data_test():\n",
    "    return df2\n"
   ],
   "metadata": {
    "id": "CPl-SiLBOncF",
    "ExecuteTime": {
     "start_time": "2024-05-27T21:38:50.795768Z"
    }
   },
   "execution_count": null,
   "outputs": []
  },
  {
   "cell_type": "code",
   "source": [
    "from sklearn.feature_selection import SequentialFeatureSelector as SFS\n",
    "from sklearn.model_selection import StratifiedKFold\n",
    "\n",
    "\n",
    "def forward_feature_selection(classifier):\n",
    "    sfK = StratifiedKFold(n_splits=10, random_state=42, shuffle=True)\n",
    "\n",
    "    sfs = SFS(\n",
    "        estimator=classifier,\n",
    "        n_features_to_select='auto',\n",
    "        tol=0.001,\n",
    "        # chosen direction in the article\n",
    "        direction='forward',\n",
    "        # chosen scoring in the article\n",
    "        scoring='roc_auc',\n",
    "        # cv = 10 = 10-fold cross-validation\n",
    "        cv=sfK,\n",
    "    )\n",
    "    return sfs\n"
   ],
   "metadata": {
    "id": "Cdy42W1dQSzT",
    "ExecuteTime": {
     "start_time": "2024-05-27T21:38:50.798425Z"
    }
   },
   "execution_count": null,
   "outputs": []
  },
  {
   "cell_type": "code",
   "source": [
    "from sklearn.preprocessing import LabelEncoder\n",
    "\n",
    "train = clean_data_train()\n",
    "test = clean_data_test()\n",
    "\n",
    "# For Train set\n",
    "lencoders = {}\n",
    "for col in train.select_dtypes(include=['object']).columns:\n",
    "    lencoders[col] = LabelEncoder()\n",
    "    train[col] = lencoders[col].fit_transform(train[col])\n",
    "\n",
    "# For Test Set\n",
    "lencoders_t = {}\n",
    "for col in test.select_dtypes(include=['object']).columns:\n",
    "    lencoders_t[col] = LabelEncoder()\n",
    "    test[col] = lencoders_t[col].fit_transform(test[col])\n",
    "# Detect outliers\n",
    "Q1 = train.quantile(0.25)\n",
    "Q3 = train.quantile(0.75)\n",
    "IQR = Q3 - Q1\n",
    "\n",
    "# Removal of outliers from dataset\n",
    "train = train[~((train < (Q1 - 1.5 * IQR)) | (train > (Q3 + 1.5 * IQR))).any(axis=1)]\n",
    "\n",
    "\n",
    "def processed_data_train():\n",
    "    return train\n",
    "\n",
    "\n",
    "# return cleaned data of test set\n",
    "def processed_data_test():\n",
    "    return test\n",
    "\n",
    "\n",
    "def split_to_train_test(train, test, features, target):\n",
    "    train_cleaned = train\n",
    "    test_cleaned = test\n",
    "\n",
    "    features = features\n",
    "\n",
    "    target = target  # Target variable\n",
    "\n",
    "    X_train = train_cleaned[features]\n",
    "    y_train = train_cleaned[target].to_numpy()  # Convert Series to NumPy array\n",
    "    X_test = test_cleaned[features]\n",
    "    y_test = test_cleaned[target].to_numpy()  # Convert Series to NumPy array\n",
    "\n",
    "    return X_train, y_train, X_test, y_test\n"
   ],
   "metadata": {
    "id": "TRMFLhtfRMV5",
    "ExecuteTime": {
     "start_time": "2024-05-27T21:38:50.799511Z"
    }
   },
   "execution_count": null,
   "outputs": []
  },
  {
   "cell_type": "code",
   "source": [
    "from sklearn.ensemble import RandomForestClassifier\n",
    "\n",
    "df_train_cleaned = clean_data_train()\n",
    "df_test_cleaned = clean_data_test()\n",
    "\n",
    "features = services\n",
    "r_x_train, r_y_train, r_x_test, r_y_test = split_to_train_test(df_train_cleaned, df_test_cleaned, features, 'satisfaction')\n",
    "random_forest = forward_feature_selection(RandomForestClassifier(n_estimators=10))\n",
    "random_forest = random_forest.fit(r_x_train, r_y_train)\n",
    "selected_features = random_forest.get_feature_names_out()\n",
    "\n",
    "print(selected_features)\n",
    "\n",
    "r_x_train, r_y_train, r_x_test, r_y_test = split_to_train_test(df_train_cleaned,\n",
    "                                                       df_test_cleaned, selected_features, 'satisfaction')\n",
    "random_forest = RandomForestClassifier(n_estimators=10)\n",
    "random_forest.fit(r_x_train, r_y_train)\n",
    "r_y_pred = random_forest.predict(x_train)\n"
   ],
   "metadata": {
    "id": "wj7NjP2mQm33",
    "ExecuteTime": {
     "start_time": "2024-05-27T21:38:50.803649100Z"
    }
   },
   "execution_count": null,
   "outputs": []
  },
  {
   "cell_type": "markdown",
   "source": [
    "output: ['Inflight wifi service' 'Departure/Arrival time convenient'\n",
    " 'Gate location' 'Online boarding' 'Inflight service']"
   ],
   "metadata": {
    "id": "XVe4oO9j5i54"
   }
  },
  {
   "cell_type": "code",
   "source": [
    "from sklearn.neighbors import KNeighborsClassifier\n",
    "\n",
    "df_train_cleaned = clean_data_train()\n",
    "df_test_cleaned = clean_data_test()\n",
    "\n",
    "k_x_train, k_y_train, k_x_test, k_y_test = split_to_train_test(df_train_cleaned, df_test_cleaned, services, 'satisfaction')\n",
    "model = forward_feature_selection(KNeighborsClassifier(n_neighbors=10))\n",
    "model = model.fit(k_x_train, k_y_train)\n",
    "selected_features = model.get_feature_names_out()\n",
    "\n",
    "print(selected_features)\n",
    "\n",
    "k_x_train, k_y_train, k_x_test, k_y_test = split_to_train_test(df_train_cleaned,\n",
    "                                                       df_test_cleaned, selected_features, 'satisfaction')\n",
    "model = KNeighborsClassifier(n_neighbors=10)\n",
    "model.fit(k_x_train, k_y_train)\n",
    "k_y_pred = model.predict(k_x_train)"
   ],
   "metadata": {
    "id": "DaQgF1f7VoVf",
    "ExecuteTime": {
     "start_time": "2024-05-27T21:38:50.804727400Z"
    }
   },
   "execution_count": null,
   "outputs": []
  },
  {
   "cell_type": "markdown",
   "source": [
    "output: ['Inflight wifi service' 'Departure/Arrival time convenient'\n",
    " 'Gate location' 'Online boarding' 'Inflight entertainment'\n",
    " 'Leg room service' 'Inflight service']"
   ],
   "metadata": {
    "id": "Y8SaaCS65eq_"
   }
  },
  {
   "cell_type": "code",
   "source": [
    "from sklearn.ensemble import GradientBoostingClassifier\n",
    "\n",
    "df_train_cleaned = clean_data_train()\n",
    "df_test_cleaned = clean_data_test()\n",
    "\n",
    "features = services\n",
    "g_x_train, g_y_train, g_x_test, g_y_test = split_to_train_test(df_train_cleaned, df_test_cleaned, features, 'satisfaction')\n",
    "gb_model = forward_feature_selection(GradientBoostingClassifier(n_estimators=10))\n",
    "gb_model = gb_model.fit(g_x_train, g_y_train)\n",
    "selected_features = gb_model.get_feature_names_out()\n",
    "\n",
    "print(selected_features)\n",
    "\n",
    "g_x_train, g_y_train, g_x_test, g_y_test = split_to_train_test(df_train_cleaned,\n",
    "                                                       df_test_cleaned, selected_features, 'satisfaction')\n",
    "gb_model = GradientBoostingClassifier(n_estimators=10)\n",
    "gb_model.fit(g_x_train, g_y_train)\n",
    "g_y_pred = gb_model.predict(g_x_train)"
   ],
   "metadata": {
    "id": "N4QJQCm-1nBt",
    "ExecuteTime": {
     "start_time": "2024-05-27T21:38:50.804727400Z"
    }
   },
   "execution_count": null,
   "outputs": []
  },
  {
   "cell_type": "markdown",
   "source": [
    "output: ['Inflight wifi service' 'Departure/Arrival time convenient'\n",
    " 'Online boarding' 'Leg room service']"
   ],
   "metadata": {
    "id": "DKwd3g_R5ZhP"
   }
  },
  {
   "cell_type": "code",
   "source": [
    "from sklearn.tree import DecisionTreeClassifier\n",
    "\n",
    "\n",
    "df_train_cleaned = clean_data_train()\n",
    "df_test_cleaned = clean_data_test()\n",
    "\n",
    "d_x_train, d_y_train, d_x_test, d_y_test = split_to_train_test(df_train_cleaned, df_test_cleaned, services, 'satisfaction')\n",
    "\n",
    "decision_tree = forward_feature_selection(DecisionTreeClassifier())\n",
    "decision_tree = decision_tree.fit(d_x_train, d_y_train)\n",
    "selected_features = decision_tree.get_feature_names_out()\n",
    "\n",
    "print(selected_features)\n",
    "\n",
    "d_x_train, d_y_train, d_x_test, d_y_test = split_to_train_test(df_train_cleaned,\n",
    "                                                       df_test_cleaned, selected_features, 'satisfaction')\n",
    "decision_tree = DecisionTreeClassifier()\n",
    "decision_tree.fit(d_x_train, d_y_train)\n",
    "d_y_pred = decision_tree.predict(d_x_train)"
   ],
   "metadata": {
    "id": "ojDNb9fW4Q-9",
    "ExecuteTime": {
     "start_time": "2024-05-27T21:38:50.805809500Z"
    }
   },
   "execution_count": null,
   "outputs": []
  },
  {
   "cell_type": "markdown",
   "source": [
    "output: ['Inflight wifi service' 'Departure/Arrival time convenient'\n",
    " 'Gate location' 'Online boarding' 'Inflight service']"
   ],
   "metadata": {
    "id": "0rYSIIrE5NQ0"
   }
  },
  {
   "cell_type": "code",
   "source": [
    "from sklearn.metrics import accuracy_score, precision_score, recall_score, f1_score\n",
    "\n",
    "# Random Forest Classifier\n",
    "accuracy = accuracy_score(r_y_train, r_y_pred)\n",
    "precision = precision_score(r_y_train, r_y_pred)\n",
    "recall = recall_score(r_y_train, r_y_pred)\n",
    "f1 = f1_score(r_y_train, r_y_pred)\n",
    "\n",
    "print('Accuracy of random forest tree: ', accuracy)\n",
    "print('Precision of random forest tree: ', precision)\n",
    "print('Recall of random forest tree: ', recall)\n",
    "print('F1 score of random forest tree: ', f1)\n",
    "\n",
    "print('\\n')\n",
    "# K-Nearest Neighbor (kNN)\n",
    "accuracy = accuracy_score(k_y_train, k_y_pred)\n",
    "precision = precision_score(k_y_train, k_y_pred)\n",
    "recall = recall_score(k_y_train, k_y_pred)\n",
    "f1 = f1_score(k_y_train, k_y_pred)\n",
    "\n",
    "print('Accuracy of random forest tree: ', accuracy)\n",
    "print('Precision of random forest tree: ', precision)\n",
    "print('Recall of random forest tree: ', recall)\n",
    "print('F1 score of random forest tree: ', f1)\n",
    "\n",
    "print('\\n')\n",
    "# Gradient Boosting Classifier\n",
    "accuracy = accuracy_score(g_y_train, g_y_pred)\n",
    "precision = precision_score(g_y_train, g_y_pred)\n",
    "recall = recall_score(g_y_train, g_y_pred)\n",
    "f1 = f1_score(g_y_train, g_y_pred)\n",
    "\n",
    "print('Accuracy of random forest tree: ', accuracy)\n",
    "print('Precision of random forest tree: ', precision)\n",
    "print('Recall of random forest tree: ', recall)\n",
    "print('F1 score of random forest tree: ', f1)\n",
    "\n",
    "print('\\n')\n",
    "# Decision Tree\n",
    "accuracy = accuracy_score(d_y_train, d_y_pred)\n",
    "precision = precision_score(d_y_train, d_y_pred)\n",
    "recall = recall_score(d_y_train, d_y_pred)\n",
    "f1 = f1_score(d_y_train, d_y_pred)\n",
    "\n",
    "print('Accuracy of random forest tree: ', accuracy)\n",
    "print('Precision of random forest tree: ', precision)\n",
    "print('Recall of random forest tree: ', recall)\n",
    "print('F1 score of random forest tree: ', f1)\n"
   ],
   "metadata": {
    "id": "M3OXzE_pfCMr",
    "ExecuteTime": {
     "start_time": "2024-05-27T21:38:50.807387900Z"
    }
   },
   "execution_count": null,
   "outputs": []
  },
  {
   "cell_type": "markdown",
   "source": [
    "output:\n",
    "\n",
    "Accuracy of random forest tree:  0.9236731857057359 |\n",
    "Precision of random forest tree:  0.930998322147651 |\n",
    "Recall of random forest tree:  0.8898367374212085 |\n",
    "F1 score of random forest tree:  0.9099522827956132\n",
    "\n",
    "\n",
    "Accuracy of random forest tree:  0.9311446608876962 |\n",
    "Precision of random forest tree:  0.9435101235495843 |\n",
    "Recall of random forest tree:  0.8946922956990445 |\n",
    "F1 score of random forest tree:  0.9184529729853323\n",
    "\n",
    "\n",
    "Accuracy of random forest tree:  0.8471533100372608 |\n",
    "Precision of random forest tree:  0.8866303046428097 |\n",
    "Recall of random forest tree:  0.742232220415618 |\n",
    "F1 score of random forest tree:  0.8080308430930385 |\n",
    "\n",
    "\n",
    "Accuracy of random forest tree:  0.9239048593547888 |\n",
    "Precision of random forest tree:  0.9358690532265662 |\n",
    "Recall of random forest tree:  0.88507027195581 |\n",
    "F1 score of random forest tree:  0.9097610952757078"
   ],
   "metadata": {
    "id": "vsL_1SOIwthg"
   }
  }
 ]
}
