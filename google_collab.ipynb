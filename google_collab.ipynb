{
  "nbformat": 4,
  "nbformat_minor": 0,
  "metadata": {
    "colab": {
      "private_outputs": true,
      "provenance": [],
      "authorship_tag": "ABX9TyPhsb0X2MFLqfzinpeT0VXR",
      "include_colab_link": true
    },
    "kernelspec": {
      "name": "python3",
      "display_name": "Python 3"
    },
    "language_info": {
      "name": "python"
    }
  },
  "cells": [
    {
      "cell_type": "markdown",
      "metadata": {
        "id": "view-in-github",
        "colab_type": "text"
      },
      "source": [
        "<a href=\"https://colab.research.google.com/github/Oguzhandd/Team2_EnhancingPassengerSatisfaction/blob/main/google_collab.ipynb\" target=\"_parent\"><img src=\"https://colab.research.google.com/assets/colab-badge.svg\" alt=\"Open In Colab\"/></a>"
      ]
    },
    {
      "cell_type": "code",
      "execution_count": null,
      "metadata": {
        "id": "umameindL0wj"
      },
      "outputs": [],
      "source": [
        "services = [\"Inflight wifi service\", \"Departure/Arrival time convenient\", \"Ease of Online booking\",\n",
        "            \"Gate location\",\"Food and drink\", \"Online boarding\", \"Seat comfort\",\n",
        "            \"Inflight entertainment\", \"On-board service\", \"Leg room service\",\n",
        "            \"Baggage handling\", \"Checkin service\", \"Inflight service\",\n",
        "            \"Cleanliness\"]"
      ]
    },
    {
      "cell_type": "code",
      "source": [
        "import pandas as pd\n",
        "\n",
        "# Load data\n",
        "df1 = pd.read_csv(\"datasets/train.csv\")\n",
        "df2 = pd.read_csv(\"datasets/test.csv\")\n",
        "#\n",
        "# print(\"Train set:\\n\")\n",
        "# print(len(df1))\n",
        "# print(df1.isnull().sum())\n",
        "# print(\"\\n\")\n",
        "# print(\"Test set:\\n\")\n",
        "# print(len(df2))\n",
        "# print(df2.isnull().sum())\n",
        "# print(\"\\n\\n\")\n",
        "\n",
        "\n",
        "# Drop Null Raws\n",
        "df1 = df1.dropna()\n",
        "df2 = df2.dropna()\n",
        "\n",
        "\n",
        "# return cleaned data of train set\n",
        "def clean_data_train():\n",
        "    return df1\n",
        "\n",
        "\n",
        "# return cleaned data of test set\n",
        "def clean_data_test():\n",
        "    return df2\n"
      ],
      "metadata": {
        "id": "CPl-SiLBOncF"
      },
      "execution_count": null,
      "outputs": []
    },
    {
      "cell_type": "code",
      "source": [
        "from sklearn.feature_selection import SequentialFeatureSelector as SFS\n",
        "from sklearn.model_selection import StratifiedKFold\n",
        "\n",
        "\n",
        "def forward_feature_selection(classifier):\n",
        "    sfK = StratifiedKFold(n_splits=10, random_state=42, shuffle=True)\n",
        "\n",
        "    sfs = SFS(\n",
        "        estimator=classifier,\n",
        "        n_features_to_select='auto',\n",
        "        tol=0.001,\n",
        "        # chosen direction in the article\n",
        "        direction='forward',\n",
        "        # chosen scoring in the article\n",
        "        scoring='roc_auc',\n",
        "        # cv = 10 = 10-fold cross-validation\n",
        "        cv=sfK,\n",
        "    )\n",
        "    return sfs\n"
      ],
      "metadata": {
        "id": "Cdy42W1dQSzT"
      },
      "execution_count": null,
      "outputs": []
    },
    {
      "cell_type": "code",
      "source": [
        "from sklearn.preprocessing import LabelEncoder\n",
        "\n",
        "train = clean_data_train()\n",
        "test = clean_data_test()\n",
        "\n",
        "# For Train set\n",
        "lencoders = {}\n",
        "for col in train.select_dtypes(include=['object']).columns:\n",
        "    lencoders[col] = LabelEncoder()\n",
        "    train[col] = lencoders[col].fit_transform(train[col])\n",
        "\n",
        "# For Test Set\n",
        "lencoders_t = {}\n",
        "for col in test.select_dtypes(include=['object']).columns:\n",
        "    lencoders_t[col] = LabelEncoder()\n",
        "    test[col] = lencoders_t[col].fit_transform(test[col])\n",
        "# Detect outliers\n",
        "Q1 = train.quantile(0.25)\n",
        "Q3 = train.quantile(0.75)\n",
        "IQR = Q3 - Q1\n",
        "\n",
        "# Removal of outliers from dataset\n",
        "train = train[~((train < (Q1 - 1.5 * IQR)) | (train > (Q3 + 1.5 * IQR))).any(axis=1)]\n",
        "\n",
        "\n",
        "def processed_data_train():\n",
        "    return train\n",
        "\n",
        "\n",
        "# return cleaned data of test set\n",
        "def processed_data_test():\n",
        "    return test\n",
        "\n",
        "\n",
        "def split_to_train_test(train, test, features, target):\n",
        "    train_cleaned = train\n",
        "    test_cleaned = test\n",
        "\n",
        "    features = features\n",
        "\n",
        "    target = target  # Target variable\n",
        "\n",
        "    X_train = train_cleaned[features]\n",
        "    y_train = train_cleaned[target].to_numpy()  # Convert Series to NumPy array\n",
        "    X_test = test_cleaned[features]\n",
        "    y_test = test_cleaned[target].to_numpy()  # Convert Series to NumPy array\n",
        "\n",
        "    return X_train, y_train, X_test, y_test\n"
      ],
      "metadata": {
        "id": "TRMFLhtfRMV5"
      },
      "execution_count": null,
      "outputs": []
    },
    {
      "cell_type": "code",
      "source": [
        "from sklearn.ensemble import RandomForestClassifier\n",
        "\n",
        "features = services\n",
        "x_train, y_train, x_test, y_test = split_to_train_test(clean_data_train(), clean_data_test(), features, 'satisfaction')\n",
        "random_forest = forward_feature_selection(RandomForestClassifier(n_estimators=10))\n",
        "random_forest = random_forest.fit(x_train, y_train)\n",
        "\n",
        "print(random_forest.get_feature_names_out())\n"
      ],
      "metadata": {
        "id": "wj7NjP2mQm33"
      },
      "execution_count": null,
      "outputs": []
    },
    {
      "cell_type": "markdown",
      "source": [
        "output: ['Inflight wifi service' 'Departure/Arrival time convenient'\n",
        " 'Ease of Online booking' 'Gate location' 'Online boarding'\n",
        " 'Baggage handling']"
      ],
      "metadata": {
        "id": "XVe4oO9j5i54"
      }
    },
    {
      "cell_type": "code",
      "source": [
        "import pandas as pd\n",
        "from sklearn.preprocessing import StandardScaler\n",
        "from sklearn.neighbors import KNeighborsClassifier\n",
        "import sklearn.metrics\n",
        "\n",
        "\n",
        "def build_and_evaluate_model(X_train, y_train, X_test, y_test, k):\n",
        "    # scaler = StandardScaler()\n",
        "    # X_train_scaled = scaler.fit_transform(X_train)\n",
        "    # X_test_scaled = scaler.transform(X_test)\n",
        "\n",
        "    model = forward_feature_selection(KNeighborsClassifier(n_neighbors=k))\n",
        "    model.fit(X_train, y_train)\n",
        "    print(model.get_feature_names_out())\n",
        "    # y_pred = model.predict(X_test_scaled)\n",
        "\n",
        "    # accuracy = sklearn.metrics.accuracy_score(y_test, y_pred)\n",
        "    # print(\"Accuracy = {}\".format(accuracy))\n",
        "    # print(sklearn.metrics.classification_report(y_test, y_pred, digits=5))\n",
        "\n",
        "    # return accuracy\n",
        "\n",
        "\n",
        "X_train, y_train, X_test, y_test = split_to_train_test(clean_data_train(), clean_data_test(), services, 'satisfaction')\n",
        "\n",
        "k = 10  # Number of neighbors in KNN\n",
        "build_and_evaluate_model(X_train, y_train, X_test, y_test, k)\n"
      ],
      "metadata": {
        "id": "DaQgF1f7VoVf"
      },
      "execution_count": null,
      "outputs": []
    },
    {
      "cell_type": "markdown",
      "source": [
        "output: ['Inflight wifi service' 'Departure/Arrival time convenient'\n",
        " 'Gate location' 'Online boarding' 'Inflight entertainment'\n",
        " 'Leg room service' 'Inflight service']"
      ],
      "metadata": {
        "id": "Y8SaaCS65eq_"
      }
    },
    {
      "cell_type": "code",
      "source": [
        "from sklearn.ensemble import GradientBoostingClassifier\n",
        "\n",
        "features = services\n",
        "x_train, y_train, x_test, y_test = split_to_train_test(clean_data_train(), clean_data_test(), features, 'satisfaction')\n",
        "gb_model = forward_feature_selection(GradientBoostingClassifier(n_estimators=10))\n",
        "gb_model = gb_model.fit(x_train, y_train)\n",
        "\n",
        "print(gb_model.get_feature_names_out())"
      ],
      "metadata": {
        "id": "N4QJQCm-1nBt"
      },
      "execution_count": null,
      "outputs": []
    },
    {
      "cell_type": "markdown",
      "source": [
        "output: ['Inflight wifi service' 'Departure/Arrival time convenient'\n",
        " 'Online boarding' 'Leg room service']"
      ],
      "metadata": {
        "id": "DKwd3g_R5ZhP"
      }
    },
    {
      "cell_type": "code",
      "source": [
        "from sklearn.tree import DecisionTreeClassifier\n",
        "\n",
        "df_train_cleaned = clean_data_train()\n",
        "df_test_cleaned = clean_data_test()\n",
        "\n",
        "X_train, y_train, X_test, y_test = split_to_train_test(df_train_cleaned, df_test_cleaned, services, 'satisfaction')\n",
        "\n",
        "decision_tree = forward_feature_selection(DecisionTreeClassifier())\n",
        "decision_tree = decision_tree.fit(X_train, y_train)\n",
        "print(decision_tree.get_feature_names_out())"
      ],
      "metadata": {
        "id": "ojDNb9fW4Q-9"
      },
      "execution_count": null,
      "outputs": []
    },
    {
      "cell_type": "markdown",
      "source": [
        "output: ['Inflight wifi service' 'Departure/Arrival time convenient'\n",
        " 'Gate location' 'Online boarding' 'Inflight service']"
      ],
      "metadata": {
        "id": "0rYSIIrE5NQ0"
      }
    }
  ]
}